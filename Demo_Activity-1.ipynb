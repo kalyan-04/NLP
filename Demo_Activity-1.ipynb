{
  "nbformat": 4,
  "nbformat_minor": 0,
  "metadata": {
    "colab": {
      "provenance": []
    },
    "kernelspec": {
      "name": "python3",
      "display_name": "Python 3"
    },
    "language_info": {
      "name": "python"
    }
  },
  "cells": [
    {
      "cell_type": "markdown",
      "source": [
        "##Instructions:\n",
        "##1.Submit a ipynb file and pdf file\n",
        "##2.This assignment is for practice purposes and won't be graded or scored.\n",
        "##3.This assignment is specially for newcomers."
      ],
      "metadata": {
        "id": "Ia6KKm8R8mYY"
      }
    },
    {
      "cell_type": "markdown",
      "source": [
        "##Exercise -1\n",
        "Here is example for print function,Now using the print() funtion create variable and print your name and age"
      ],
      "metadata": {
        "id": "o4OkY3AFCIdB"
      }
    },
    {
      "cell_type": "code",
      "execution_count": 2,
      "metadata": {
        "colab": {
          "base_uri": "https://localhost:8080/"
        },
        "id": "YYti22WW8a0E",
        "outputId": "8fc2ded1-03be-4eb4-929e-1185e0052a53"
      },
      "outputs": [
        {
          "output_type": "stream",
          "name": "stdout",
          "text": [
            "hello world\n"
          ]
        }
      ],
      "source": [
        "##example\n",
        "print(\"hello world\")"
      ]
    },
    {
      "cell_type": "code",
      "source": [
        "##your code here"
      ],
      "metadata": {
        "id": "IYJiEVzF8cRv"
      },
      "execution_count": null,
      "outputs": []
    },
    {
      "cell_type": "code",
      "source": [
        "\n"
      ],
      "metadata": {
        "id": "zsZ-2fTNMbm9"
      },
      "execution_count": null,
      "outputs": []
    },
    {
      "cell_type": "markdown",
      "source": [
        "##Tokenization\n",
        "\n",
        "Tokenization is the process of splitting text into smaller units called tokens. It is a fundamental step in natural language processing (NLP) tasks. Tokenization breaks down sentences and paragraphs into individual words, punctuation, and numbers - capturing the basic linguistic units for analysis. Effective tokenization is key for feeding text data into machine learning models and deriving insights."
      ],
      "metadata": {
        "id": "TjoAPXdxgOQr"
      }
    },
    {
      "cell_type": "code",
      "source": [
        "!pip install nltk\n",
        "import nltk\n"
      ],
      "metadata": {
        "colab": {
          "base_uri": "https://localhost:8080/"
        },
        "id": "2hfCv2moMdOy",
        "outputId": "1079ebb8-a76b-4563-e5dd-143c8e201f9c"
      },
      "execution_count": 3,
      "outputs": [
        {
          "output_type": "stream",
          "name": "stdout",
          "text": [
            "Requirement already satisfied: nltk in /usr/local/lib/python3.11/dist-packages (3.9.1)\n",
            "Requirement already satisfied: click in /usr/local/lib/python3.11/dist-packages (from nltk) (8.1.8)\n",
            "Requirement already satisfied: joblib in /usr/local/lib/python3.11/dist-packages (from nltk) (1.4.2)\n",
            "Requirement already satisfied: regex>=2021.8.3 in /usr/local/lib/python3.11/dist-packages (from nltk) (2024.11.6)\n",
            "Requirement already satisfied: tqdm in /usr/local/lib/python3.11/dist-packages (from nltk) (4.67.1)\n"
          ]
        }
      ]
    },
    {
      "cell_type": "code",
      "source": [
        "nltk.download('punkt_tab')"
      ],
      "metadata": {
        "colab": {
          "base_uri": "https://localhost:8080/"
        },
        "id": "xSwJx_xKO0g9",
        "outputId": "a4a1b0c2-bb74-429f-a4db-0d6f56381c5b"
      },
      "execution_count": 4,
      "outputs": [
        {
          "output_type": "stream",
          "name": "stderr",
          "text": [
            "[nltk_data] Downloading package punkt_tab to /root/nltk_data...\n",
            "[nltk_data]   Unzipping tokenizers/punkt_tab.zip.\n"
          ]
        },
        {
          "output_type": "execute_result",
          "data": {
            "text/plain": [
              "True"
            ]
          },
          "metadata": {},
          "execution_count": 4
        }
      ]
    },
    {
      "cell_type": "code",
      "source": [
        "!conda install nltk"
      ],
      "metadata": {
        "colab": {
          "base_uri": "https://localhost:8080/"
        },
        "id": "Np4ov3eZSSaW",
        "outputId": "324ffa18-7681-4b88-b2e0-634b307c8524"
      },
      "execution_count": 5,
      "outputs": [
        {
          "output_type": "stream",
          "name": "stdout",
          "text": [
            "/bin/bash: line 1: conda: command not found\n"
          ]
        }
      ]
    },
    {
      "cell_type": "code",
      "source": [
        "text = \"Natural language processing (NLP) is a subfield of linguistics, computer science, and artificial intelligence concerned with the interactions between computers and human language, in particular how to program computers to process and analyze large amounts of natural language data.\"\n",
        "\n",
        "# Tokenize the text\n",
        "tokens = nltk.word_tokenize(text)\n",
        "\n",
        "print(\"tokens:\",tokens)\n"
      ],
      "metadata": {
        "colab": {
          "base_uri": "https://localhost:8080/"
        },
        "id": "L21tgTIFO38u",
        "outputId": "2e3ffcca-e5f5-4da2-8ac7-c71242e2d62f"
      },
      "execution_count": 6,
      "outputs": [
        {
          "output_type": "stream",
          "name": "stdout",
          "text": [
            "tokens: ['Natural', 'language', 'processing', '(', 'NLP', ')', 'is', 'a', 'subfield', 'of', 'linguistics', ',', 'computer', 'science', ',', 'and', 'artificial', 'intelligence', 'concerned', 'with', 'the', 'interactions', 'between', 'computers', 'and', 'human', 'language', ',', 'in', 'particular', 'how', 'to', 'program', 'computers', 'to', 'process', 'and', 'analyze', 'large', 'amounts', 'of', 'natural', 'language', 'data', '.']\n"
          ]
        }
      ]
    },
    {
      "cell_type": "markdown",
      "source": [
        "##Exercise -2\n",
        "##Using the above methods implement tokenization on your own corpus"
      ],
      "metadata": {
        "id": "VDLxf-sCyvbG"
      }
    },
    {
      "cell_type": "code",
      "source": [
        "##your code here"
      ],
      "metadata": {
        "id": "0xHKbGBYPKVb"
      },
      "execution_count": null,
      "outputs": []
    },
    {
      "cell_type": "markdown",
      "source": [
        "##re.split()\n",
        "##re.split() is useful for tokenizing strings in natural language processing and provides an alternative to string.split() with added regex power.\n"
      ],
      "metadata": {
        "id": "6BY_I65bRpl3"
      }
    },
    {
      "cell_type": "code",
      "source": [
        "import re\n",
        "\n",
        "text = \"This is a sample sentence for regex tokenization.\"\n",
        "\n",
        "tokens = re.split(\"\\W+\", text)\n",
        "print(tokens)"
      ],
      "metadata": {
        "colab": {
          "base_uri": "https://localhost:8080/"
        },
        "id": "YjUGqFKA-wvs",
        "outputId": "0196cf9e-07d1-4222-d309-eaf36eb227df"
      },
      "execution_count": 7,
      "outputs": [
        {
          "output_type": "stream",
          "name": "stdout",
          "text": [
            "['This', 'is', 'a', 'sample', 'sentence', 'for', 'regex', 'tokenization', '']\n"
          ]
        }
      ]
    },
    {
      "cell_type": "markdown",
      "source": [
        "##Exercise -3\n",
        "## Implement  re.split funtion to your own corpus"
      ],
      "metadata": {
        "id": "vtrn65alRHbR"
      }
    },
    {
      "cell_type": "code",
      "source": [
        "##your code here"
      ],
      "metadata": {
        "id": "EHnTnuw4RE_Z"
      },
      "execution_count": null,
      "outputs": []
    },
    {
      "cell_type": "markdown",
      "source": [
        "##Exercise -4\n",
        "##Using your own dataset display the head of the data and tail of the data and also plot a simple line graph\n",
        "(You can use any dataset which is available online)"
      ],
      "metadata": {
        "id": "UNTEsCbTR9hF"
      }
    },
    {
      "cell_type": "code",
      "source": [
        "##your code here"
      ],
      "metadata": {
        "id": "doxT4n25rS53"
      },
      "execution_count": null,
      "outputs": []
    },
    {
      "cell_type": "markdown",
      "source": [
        "##References\n",
        "##1.https://developers.google.com/edu/python/exercises/basic\n",
        "##2.https://www.w3schools.com/python/\n",
        "##3.https://docs.python.org/3/tutorial/"
      ],
      "metadata": {
        "id": "ZFBCBrzyN9qf"
      }
    }
  ]
}