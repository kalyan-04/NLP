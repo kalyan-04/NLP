{
  "nbformat": 4,
  "nbformat_minor": 0,
  "metadata": {
    "colab": {
      "provenance": []
    },
    "kernelspec": {
      "name": "python3",
      "display_name": "Python 3"
    },
    "language_info": {
      "name": "python"
    }
  },
  "cells": [
    {
      "cell_type": "markdown",
      "source": [
        "# **Activity 4: Minimum Edit Distance**\n",
        "\n",
        "\n",
        "\n",
        "**Instructions:**\n",
        "\n",
        "---\n",
        "* Please download the provided IPython Notebook (ipynb) file and open it in Google Colab. Once opened, enter your code in the same file directly beneath the relevant question's code block.\n",
        "\n",
        "\n",
        "* Purpose of this activity is to practice and get hands on experience (Ungraded Activity)  \n",
        "\n",
        "* No Dataset required for this Activity"
      ],
      "metadata": {
        "id": "c8lz6fLyYwPO"
      }
    },
    {
      "cell_type": "markdown",
      "source": [
        "Minimum Edit Distance in NLP is the smallest number of operations required to transform one string into another. The allowed operations are insertion, deletion, and substitution of characters. It is commonly used in spell checkers, DNA sequencing, and text similarity tasks."
      ],
      "metadata": {
        "id": "QyregdF6FDFe"
      }
    },
    {
      "cell_type": "markdown",
      "source": [
        "# Character Based Text Similarity\n",
        "\"As an example, this technology is used by information retrieval systems, search engines, automatic indexing systems, text summarizers, categorization systems, plagiarism checkers, speech recognition, rating systems, DNA analysis, and profiling algorithms (IR/AI programs to automatically link data between people and what they do).\""
      ],
      "metadata": {
        "id": "n_SWwokYFknN"
      }
    },
    {
      "cell_type": "markdown",
      "source": [
        "##Tutorial-1"
      ],
      "metadata": {
        "id": "4wyYknFf3Yyq"
      }
    },
    {
      "cell_type": "code",
      "source": [
        "# A Naive recursive Python program to find minimum number\n",
        "# operations to convert str1 to str2\n",
        "\n",
        "def editDistance(str1, str2, m, n):\n",
        "\n",
        "    # If first string is empty, the only option is to\n",
        "    # insert all characters of second string into first\n",
        "    if m == 0:\n",
        "        return n\n",
        "\n",
        "    # If second string is empty, the only option is to\n",
        "    # remove all characters of first string\n",
        "    if n == 0:\n",
        "        return m\n",
        "\n",
        "    # If last characters of two strings are same, nothing\n",
        "    # much to do. Ignore last characters and get count for\n",
        "    # remaining strings.\n",
        "    if str1[m-1] == str2[n-1]:\n",
        "        return editDistance(str1, str2, m-1, n-1)\n",
        "\n",
        "    # If last characters are not same, consider all three\n",
        "    # operations on last character of first string, recursively\n",
        "    # compute minimum cost for all three operations and take\n",
        "    # minimum of three values.\n",
        "    return 1 + min(editDistance(str1, str2, m, n-1),    # Insert\n",
        "                   editDistance(str1, str2, m-1, n),    # Remove\n",
        "                   editDistance(str1, str2, m-1, n-1)    # Replace\n",
        "                   )\n",
        "\n",
        "# Driver code\n",
        "str1 = \"sunday\"\n",
        "str2 = \"saturday\"\n",
        "print (editDistance(str1, str2, len(str1), len(str2)))"
      ],
      "metadata": {
        "id": "klWflFdyGt4R",
        "colab": {
          "base_uri": "https://localhost:8080/"
        },
        "outputId": "59b4b94e-c55e-4cbc-d5c7-652810f69515"
      },
      "execution_count": null,
      "outputs": [
        {
          "output_type": "stream",
          "name": "stdout",
          "text": [
            "3\n"
          ]
        }
      ]
    },
    {
      "cell_type": "markdown",
      "source": [
        "It calculates the minimum number of operations (insert, remove, or replace) required to convert one string into another using recursion. It checks if either string is empty (base cases) and, if the last characters match, moves to the next comparison. Otherwise, it recursively considers all three operations and returns the minimum steps needed."
      ],
      "metadata": {
        "id": "6q8eyUxNDlTI"
      }
    },
    {
      "cell_type": "markdown",
      "source": [
        "## Task 1\n",
        "##Assume the cost of insertions is 0 and deletions is 3 and substitution is 1. What is the minimum cost to transform the word \"computation\" into \"education\" using the given cost of insertions, deletions, and substitutions?"
      ],
      "metadata": {
        "id": "9HOuQ546xuUC"
      }
    },
    {
      "cell_type": "code",
      "source": [
        "## Enter your code here\n",
        "def min_edit_distance(str1, str2, m, n):\n",
        "    # Define costs\n",
        "    INSERT_COST = 0\n",
        "    DELETE_COST = 3\n",
        "    REPLACE_COST = 1\n",
        "\n",
        "    # Create a DP table\n",
        "    dp = [[0 for _ in range(n + 1)] for _ in range(m + 1)]\n",
        "\n",
        "    # Fill the table\n",
        "    for i in range(m + 1):\n",
        "        for j in range(n + 1):\n",
        "            # If first string is empty, insert all characters of second string\n",
        "            if i == 0:\n",
        "                dp[i][j] = j * INSERT_COST\n",
        "            # If second string is empty, remove all characters of first string\n",
        "            elif j == 0:\n",
        "                dp[i][j] = i * DELETE_COST\n",
        "            # If last characters are the same, ignore and move to next\n",
        "            elif str1[i - 1] == str2[j - 1]:\n",
        "                dp[i][j] = dp[i - 1][j - 1]\n",
        "            else:\n",
        "                dp[i][j] = min(\n",
        "                    dp[i][j - 1] + INSERT_COST,  # Insert\n",
        "                    dp[i - 1][j] + DELETE_COST,  # Delete\n",
        "                    dp[i - 1][j - 1] + REPLACE_COST  # Replace\n",
        "                )\n",
        "\n",
        "    return dp[m][n]\n",
        "\n",
        "# Example usage\n",
        "str1 = \"computation\"\n",
        "str2 = \"education\"\n",
        "print(\"Minimum cost:\", min_edit_distance(str1, str2, len(str1), len(str2)))"
      ],
      "metadata": {
        "id": "yOKTvviOx53j",
        "colab": {
          "base_uri": "https://localhost:8080/"
        },
        "outputId": "21492322-0104-4f49-9991-622305aa8eef"
      },
      "execution_count": null,
      "outputs": [
        {
          "output_type": "stream",
          "name": "stdout",
          "text": [
            "Minimum cost: 9\n"
          ]
        }
      ]
    },
    {
      "cell_type": "markdown",
      "source": [
        "The code calculates the minimum cost to transform \"computation\" into \"education\" using dynamic programming. It fills a table (dp) where each entry represents the minimum cost to convert a substring of one word into the other, considering insertion (0 cost), deletion (3 cost), and substitution (1 cost). The final answer is stored in dp[m][n]."
      ],
      "metadata": {
        "id": "bS52J1F2E_C3"
      }
    },
    {
      "cell_type": "markdown",
      "source": [
        "##Tutorial-2\n",
        "# The Levenshtein Distance\n",
        "\"This method was invented in 1965 by the Russian Mathematician Vladimir Levenshtein (1935-2017). The distance value describes the minimal number of deletions, insertions, or substitutions that are required to transform one string (the source) into another (the target). Unlike the Hamming distance, the Levenshtein distance works on strings with an unequal length.\"\n",
        "\n",
        "SOURCE: [Levenshtein Distance and Text Similarity in Python](https://stackabuse.com/levenshtein-distance-and-text-similarity-in-python/)"
      ],
      "metadata": {
        "id": "6aTlU1vYF0R0"
      }
    },
    {
      "cell_type": "code",
      "source": [
        "import numpy as np\n",
        "seq1 = 'medicine'\n",
        "seq2 = 'medical'\n",
        "\n",
        "# create a matrix\n",
        "size_x = len(seq1) + 1\n",
        "size_y = len(seq2) + 1\n",
        "matrix = np.zeros ((size_x, size_y))\n",
        "matrix"
      ],
      "metadata": {
        "id": "CQ01wUu6G8vj",
        "colab": {
          "base_uri": "https://localhost:8080/"
        },
        "outputId": "95fdb081-89e8-40fc-c965-ce46677d23d8"
      },
      "execution_count": null,
      "outputs": [
        {
          "output_type": "execute_result",
          "data": {
            "text/plain": [
              "array([[0., 0., 0., 0., 0., 0., 0., 0.],\n",
              "       [0., 0., 0., 0., 0., 0., 0., 0.],\n",
              "       [0., 0., 0., 0., 0., 0., 0., 0.],\n",
              "       [0., 0., 0., 0., 0., 0., 0., 0.],\n",
              "       [0., 0., 0., 0., 0., 0., 0., 0.],\n",
              "       [0., 0., 0., 0., 0., 0., 0., 0.],\n",
              "       [0., 0., 0., 0., 0., 0., 0., 0.],\n",
              "       [0., 0., 0., 0., 0., 0., 0., 0.],\n",
              "       [0., 0., 0., 0., 0., 0., 0., 0.]])"
            ]
          },
          "metadata": {},
          "execution_count": 27
        }
      ]
    },
    {
      "cell_type": "markdown",
      "source": [
        "The code initializes a 2D matrix using NumPy to compare the words \"medicine\" and \"medical\". The matrix has dimensions (len(seq1) + 1) × (len(seq2) + 1), filled with zeros, and will likely be used for operations like edit distance calculation."
      ],
      "metadata": {
        "id": "OVPZe3NfIyJQ"
      }
    },
    {
      "cell_type": "markdown",
      "source": [
        "The above code creates two string variables named seq1 and seq2 with the values 'medicine' and 'medical', respectively.\n",
        "\n",
        "Then, the code initializes two integer variables named size_x and size_y with the length of seq1 plus one and the length of seq2 plus one, respectively.\n",
        "\n",
        "Finally, the code creates a two-dimensional numpy array called matrix with dimensions size_x by size_y, filled with zeros. This matrix can be used to implement the programming algorithm for computing the min edit distance between seq1 and seq2."
      ],
      "metadata": {
        "id": "dzOZ-eGjXQ1A"
      }
    },
    {
      "cell_type": "code",
      "source": [
        "# set col numbers (0, n-1)\n",
        "for x in range(size_x):\n",
        "    matrix [x, 0] = x\n",
        "\n",
        "# set row numbers (0, n-1)\n",
        "for y in range(size_y):\n",
        "    matrix [0, y] = y\n",
        "\n",
        "matrix"
      ],
      "metadata": {
        "id": "EDDx5P0rG_Rz",
        "colab": {
          "base_uri": "https://localhost:8080/"
        },
        "outputId": "e16cc8fd-e546-4674-b4a7-347469953922"
      },
      "execution_count": null,
      "outputs": [
        {
          "output_type": "execute_result",
          "data": {
            "text/plain": [
              "array([[0., 1., 2., 3., 4., 5., 6., 7.],\n",
              "       [1., 0., 0., 0., 0., 0., 0., 0.],\n",
              "       [2., 0., 0., 0., 0., 0., 0., 0.],\n",
              "       [3., 0., 0., 0., 0., 0., 0., 0.],\n",
              "       [4., 0., 0., 0., 0., 0., 0., 0.],\n",
              "       [5., 0., 0., 0., 0., 0., 0., 0.],\n",
              "       [6., 0., 0., 0., 0., 0., 0., 0.],\n",
              "       [7., 0., 0., 0., 0., 0., 0., 0.],\n",
              "       [8., 0., 0., 0., 0., 0., 0., 0.]])"
            ]
          },
          "metadata": {},
          "execution_count": 28
        }
      ]
    },
    {
      "cell_type": "markdown",
      "source": [
        "The code initializes the first row and first column of the matrix to represent the edit distance when transforming an empty string into prefixes of \"medicine\" and \"medical\". The first column is filled with row indices (indicating deletions), and the first row is filled with column indices (indicating insertions)."
      ],
      "metadata": {
        "id": "qVMhWr8LNYVA"
      }
    },
    {
      "cell_type": "markdown",
      "source": [
        "Above code defines the matrix is initialized with zeros, and its size is defined based on the length of the two input strings seq1 and seq2. Then, the first row and column of the matrix are set to the corresponding indices of the strings, i.e., the distance from an empty string to a substring of the string, which will be used as a base case for computing the distance between two substrings."
      ],
      "metadata": {
        "id": "lA5wuNhBX-7q"
      }
    },
    {
      "cell_type": "code",
      "source": [
        "import numpy as np\n",
        "import pandas as pd\n",
        "\n",
        "\n",
        "def levenshtein(seq1, seq2):\n",
        "    # create a matrix\n",
        "    size_x = len(seq1) + 1\n",
        "    size_y = len(seq2) + 1\n",
        "    matrix = np.zeros ((size_x, size_y))\n",
        "\n",
        "    # set col numbers (0, n-1)\n",
        "    for x in range(size_x):\n",
        "        matrix [x, 0] = x\n",
        "\n",
        "    # set row numbers (0, n-1)\n",
        "    for y in range(size_y):\n",
        "        matrix [0, y] = y\n",
        "\n",
        "    # calculate distance\n",
        "    for x in range(1, size_x):\n",
        "        for y in range(1, size_y):\n",
        "            # if characters match do not increase distance\n",
        "            if seq1[x-1] == seq2[y-1]:\n",
        "                matrix [x,y] = matrix[x-1, y-1]\n",
        "            # if characters don't match increase min distance by 1\n",
        "            else:\n",
        "                matrix [x,y] = min(\n",
        "                    matrix[x-1,y] + 1,\n",
        "                    matrix[x-1,y-1] + 1,\n",
        "                    matrix[x,y-1] + 1\n",
        "                )\n",
        "\n",
        "    # print the distance calulation matrix\n",
        "    # list(seq1) converts string into a list of the characters\n",
        "    print(pd.DataFrame(matrix[1:,1:], index=list(seq1), columns=list(seq2)))\n",
        "\n",
        "    return (matrix[size_x - 1, size_y - 1])\n",
        "\n",
        "levenshtein('medicine','medical')"
      ],
      "metadata": {
        "id": "syNCcFXhG_1P",
        "colab": {
          "base_uri": "https://localhost:8080/"
        },
        "outputId": "9ff809aa-bda5-4852-957d-0e15f9b3afae"
      },
      "execution_count": null,
      "outputs": [
        {
          "output_type": "stream",
          "name": "stdout",
          "text": [
            "     m    e    d    i    c    a    l\n",
            "m  0.0  1.0  2.0  3.0  4.0  5.0  6.0\n",
            "e  1.0  0.0  1.0  2.0  3.0  4.0  5.0\n",
            "d  2.0  1.0  0.0  1.0  2.0  3.0  4.0\n",
            "i  3.0  2.0  1.0  0.0  1.0  2.0  3.0\n",
            "c  4.0  3.0  2.0  1.0  0.0  1.0  2.0\n",
            "i  5.0  4.0  3.0  2.0  1.0  1.0  2.0\n",
            "n  6.0  5.0  4.0  3.0  2.0  2.0  2.0\n",
            "e  7.0  6.0  5.0  4.0  3.0  3.0  3.0\n"
          ]
        },
        {
          "output_type": "execute_result",
          "data": {
            "text/plain": [
              "3.0"
            ]
          },
          "metadata": {},
          "execution_count": 29
        }
      ]
    },
    {
      "cell_type": "markdown",
      "source": [
        "The code implements the Levenshtein distance algorithm using a matrix to calculate the minimum number of insertions, deletions, and substitutions required to transform one word into another. It initializes the matrix with row and column indices representing the base cases, then iterates through each character of \"medicine\" and \"medical\", updating the matrix based on character matches or mismatches. Finally, it prints the matrix using pandas and returns the final edit distance."
      ],
      "metadata": {
        "id": "2dJvN0zYNiyV"
      }
    },
    {
      "cell_type": "markdown",
      "source": [
        "The code above defines a levenshtein function that takes two input strings seq1 and seq2 and calculates the Levenshtein distance between them.\n",
        "\n",
        "The function first creates a matrix of size (len(seq1) + 1) x (len(seq2) + 1), where each element in the matrix represents the Levenshtein distance between the corresponding prefixes of seq1 and seq2.\n",
        "\n",
        "It then initializes the first row and column of the matrix with ascending values from 0 to the length of the corresponding string.\n",
        "\n",
        "The function then iterates through each cell in the matrix, and for each cell, it calculates the minimum of the value to the left, the value above, and the diagonal value, and adds 1 if the characters in seq1 and seq2 are different. The final cell in the matrix represents the Levenshtein distance between the entire seq1 and seq2.\n",
        "\n",
        "Finally, the function prints the matrix used in the calculation and returns the Levenshtein distance."
      ],
      "metadata": {
        "id": "aV1GWzolZCQk"
      }
    },
    {
      "cell_type": "code",
      "source": [
        "from IPython.lib.display import YouTubeVideo\n",
        "YouTubeVideo('We3YDTzNXEk')"
      ],
      "metadata": {
        "id": "MSQtw0-0HG3h",
        "colab": {
          "base_uri": "https://localhost:8080/",
          "height": 321
        },
        "outputId": "2845f8a9-5067-4e50-af8d-8c0c3f7e04dc"
      },
      "execution_count": null,
      "outputs": [
        {
          "output_type": "execute_result",
          "data": {
            "text/plain": [
              "<IPython.lib.display.YouTubeVideo at 0x7f05a051f190>"
            ],
            "text/html": [
              "\n",
              "        <iframe\n",
              "            width=\"400\"\n",
              "            height=\"300\"\n",
              "            src=\"https://www.youtube.com/embed/We3YDTzNXEk\"\n",
              "            frameborder=\"0\"\n",
              "            allowfullscreen\n",
              "            \n",
              "        ></iframe>\n",
              "        "
            ],
            "image/jpeg": "[encoded data removed]"
          },
          "metadata": {},
          "execution_count": 30
        }
      ]
    },
    {
      "cell_type": "markdown",
      "source": [
        "##Tutorial-3\n",
        "# Levenshtein Distance for Sentences"
      ],
      "metadata": {
        "id": "RFiLMn7rIHUd"
      }
    },
    {
      "cell_type": "code",
      "source": [
        "# Simple Minimum Edit Distance\n",
        "\n",
        "def min_edit_distance(str1, str2):\n",
        "    # Create a matrix with dimensions (len(str1)+1) x (len(str2)+1)\n",
        "    dp = [[0 for _ in range(len(str2) + 1)] for _ in range(len(str1) + 1)]\n",
        "\n",
        "    # Initialize the first row and column\n",
        "    for i in range(len(str1) + 1):\n",
        "        dp[i][0] = i  # Deletion cost\n",
        "    for j in range(len(str2) + 1):\n",
        "        dp[0][j] = j  # Insertion cost\n",
        "\n",
        "    # Fill the matrix\n",
        "    for i in range(1, len(str1) + 1):\n",
        "        for j in range(1, len(str2) + 1):\n",
        "            if str1[i - 1] == str2[j - 1]:\n",
        "                dp[i][j] = dp[i - 1][j - 1]  # No cost\n",
        "            else:\n",
        "                dp[i][j] = min(dp[i - 1][j] + 1,     # Deletion\n",
        "                               dp[i][j - 1] + 1,     # Insertion\n",
        "                               dp[i - 1][j - 1] + 1) # Substitution\n",
        "\n",
        "    return dp[len(str1)][len(str2)]\n",
        "\n",
        "# Example usage\n",
        "str1 = \"This is a cat\"\n",
        "str2 = \"That is a dog\"\n",
        "distance = min_edit_distance(str1, str2)\n",
        "print(f\"The minimum edit distance between '{str1}' and '{str2}' is {distance}.\")\n"
      ],
      "metadata": {
        "id": "_QPI9_zWGK3I",
        "colab": {
          "base_uri": "https://localhost:8080/"
        },
        "outputId": "a8f0c4d9-ff49-48fa-ab1f-66b26ded9c3a"
      },
      "execution_count": null,
      "outputs": [
        {
          "output_type": "stream",
          "name": "stdout",
          "text": [
            "The minimum edit distance between 'This is a cat' and 'That is a dog' is 5.\n"
          ]
        }
      ]
    },
    {
      "cell_type": "markdown",
      "source": [
        "The above code defines a Python function that calculate minimum edit distance between the given source of two strings. The function splits the input strings into lists of words and creates a matrix of zeros with the dimensions, where n and m are the lengths of the source and list of target. Next, the function then populates the matrix with minimum edit distance values using dynamic programming, and returns the minimum edit distance value at the bottom-right corner of the matrix."
      ],
      "metadata": {
        "id": "4aKKaLD7g0Kj"
      }
    },
    {
      "cell_type": "markdown",
      "source": [
        "##Task 2:\n",
        "##Calculate the Levenshtein distance between two strings.(10)\n",
        "\n",
        "String1 = (\"Natural language processing\")\n",
        "\n",
        "String2 = (\"Computer science department\")"
      ],
      "metadata": {
        "id": "hzpreJA8vXa3"
      }
    },
    {
      "cell_type": "code",
      "source": [
        "##ENTER YOUR CODE HERE\n",
        "import numpy as np\n",
        "\n",
        "def levenshtein_distance(str1, str2):\n",
        "    m, n = len(str1), len(str2)\n",
        "    dp = np.zeros((m + 1, n + 1))\n",
        "\n",
        "    # Initialize base cases\n",
        "    for i in range(m + 1):\n",
        "        dp[i][0] = i\n",
        "    for j in range(n + 1):\n",
        "        dp[0][j] = j\n",
        "\n",
        "    # Compute the distance\n",
        "    for i in range(1, m + 1):\n",
        "        for j in range(1, n + 1):\n",
        "            if str1[i - 1] == str2[j - 1]:\n",
        "                dp[i][j] = dp[i - 1][j - 1]  # No change if characters match\n",
        "            else:\n",
        "                dp[i][j] = min(\n",
        "                    dp[i - 1][j] + 1,   # Deletion\n",
        "                    dp[i][j - 1] + 1,   # Insertion\n",
        "                    dp[i - 1][j - 1] + 1  # Substitution\n",
        "                )\n",
        "\n",
        "    return int(dp[m][n])\n",
        "\n",
        "# Example usage\n",
        "string1 = \"Natural language processing\"\n",
        "string2 = \"Computer science department\"\n",
        "print(\"Levenshtein Distance:\", levenshtein_distance(string1, string2))"
      ],
      "metadata": {
        "id": "kcDvlYTD4YvR",
        "colab": {
          "base_uri": "https://localhost:8080/"
        },
        "outputId": "352f846a-d70d-4494-861d-4fdb8b780561"
      },
      "execution_count": null,
      "outputs": [
        {
          "output_type": "stream",
          "name": "stdout",
          "text": [
            "Levenshtein Distance: 23\n"
          ]
        }
      ]
    },
    {
      "cell_type": "markdown",
      "source": [
        "The code calculates the Levenshtein distance between two strings using a dynamic programming approach. It fills a matrix where each cell represents the minimum number of insertions, deletions, or substitutions needed to transform one string into the other. The final value in the matrix gives the total edit distance."
      ],
      "metadata": {
        "id": "CSeUKnWsOK1i"
      }
    },
    {
      "cell_type": "markdown",
      "source": [
        "##Task 3:\n",
        "##Write a program that automatically corrects typos and misspellings in a piece of text. The program should use the Levenshtein distance to suggest correction candidates and choose the best correction based on the distance(15)\n",
        "\n",
        "Print the new Text string after correcting the spellings by finding the nearest word from the word_list for each word."
      ],
      "metadata": {
        "id": "yLV2Db4O0pj8"
      }
    },
    {
      "cell_type": "code",
      "source": [
        "#text = \"Thes is a smple sntence with sum typos and mispellings.\"\n",
        "#word_list = [\"this\", \"is\", \"a\", \"simple\", \"sentence\", \"with\", \"some\", \"typos\", \"and\", \"misspellings\"]\n",
        "##Enter your Code\n",
        "import numpy as np\n",
        "\n",
        "def levenshtein_distance(str1, str2):\n",
        "    m, n = len(str1), len(str2)\n",
        "    dp = np.zeros((m + 1, n + 1))\n",
        "\n",
        "    for i in range(m + 1):\n",
        "        dp[i][0] = i\n",
        "    for j in range(n + 1):\n",
        "        dp[0][j] = j\n",
        "\n",
        "    for i in range(1, m + 1):\n",
        "        for j in range(1, n + 1):\n",
        "            if str1[i - 1] == str2[j - 1]:\n",
        "                dp[i][j] = dp[i - 1][j - 1]\n",
        "            else:\n",
        "                dp[i][j] = min(\n",
        "                    dp[i - 1][j] + 1,   # Deletion\n",
        "                    dp[i][j - 1] + 1,   # Insertion\n",
        "                    dp[i - 1][j - 1] + 1  # Substitution\n",
        "                )\n",
        "\n",
        "    return int(dp[m][n])\n",
        "\n",
        "def correct_text(text, word_list):\n",
        "    words = text.split()\n",
        "    corrected_words = []\n",
        "\n",
        "    for word in words:\n",
        "        best_match = min(word_list, key=lambda w: levenshtein_distance(word.lower(), w))\n",
        "        corrected_words.append(best_match)\n",
        "\n",
        "    return \" \".join(corrected_words)\n",
        "\n",
        "# Example usage\n",
        "text = \"Thes is a smple sntence with sum typos and mispellings.\"\n",
        "word_list = [\"this\", \"is\", \"a\", \"simple\", \"sentence\", \"with\", \"some\", \"typos\", \"and\", \"misspellings\"]\n",
        "corrected_text = correct_text(text, word_list)\n",
        "print(\"Corrected Text:\", corrected_text)"
      ],
      "metadata": {
        "id": "f1ozBL190pVq",
        "colab": {
          "base_uri": "https://localhost:8080/"
        },
        "outputId": "c9f87b57-23a0-44c9-d7f9-05325698ddde"
      },
      "execution_count": null,
      "outputs": [
        {
          "output_type": "stream",
          "name": "stdout",
          "text": [
            "Corrected Text: this is a simple sentence with some typos and misspellings\n"
          ]
        }
      ]
    },
    {
      "cell_type": "markdown",
      "source": [
        "The above code defines three functions:\n",
        "\n",
        "1) Levenshtein_distance(seq1, seq2) which calculates the Levenshtein distance between two sequences.\n",
        "\n",
        "2) correct_typo(word, word_list) corrects a single typo in a word, based on a given list of correct words. It calculates the distance between the misspelled word and each word in the list, and returns the closest one.\n",
        "\n",
        "3) correct_text(text, word_list) corrects typos and misspellings in a text, based on a given list of correct words. It splits the text into words, and applies the correct_typo function to each word. The resulting list of corrected words is joined into a single string.\n",
        "\n",
        "The program can be tested with the given sample data."
      ],
      "metadata": {
        "id": "jQYjmbr3fRev"
      }
    }
  ]
}